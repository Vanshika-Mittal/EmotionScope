{
 "cells": [
  {
   "cell_type": "code",
   "execution_count": 1,
   "id": "c53e8948",
   "metadata": {
    "_cell_guid": "b1076dfc-b9ad-4769-8c92-a6c4dae69d19",
    "_uuid": "8f2839f25d086af736a60e9eeb907d3b93b6e0e5",
    "execution": {
     "iopub.execute_input": "2025-05-11T12:53:31.655793Z",
     "iopub.status.busy": "2025-05-11T12:53:31.655482Z",
     "iopub.status.idle": "2025-05-11T12:53:42.851459Z",
     "shell.execute_reply": "2025-05-11T12:53:42.850649Z"
    },
    "papermill": {
     "duration": 11.206467,
     "end_time": "2025-05-11T12:53:42.853197",
     "exception": false,
     "start_time": "2025-05-11T12:53:31.646730",
     "status": "completed"
    },
    "tags": []
   },
   "outputs": [],
   "source": [
    "# This Python 3 environment comes with many helpful analytics libraries installed\n",
    "# It is defined by the kaggle/python Docker image: https://github.com/kaggle/docker-python\n",
    "# For example, here's several helpful packages to load\n",
    "\n",
    "import numpy as np # linear algebra\n",
    "import pandas as pd # data processing, CSV file I/O (e.g. pd.read_csv)\n",
    "import seaborn as sns\n",
    "from sklearn import preprocessing, decomposition, model_selection, metrics, pipeline\n",
    "from sklearn.model_selection import GridSearchCV\n",
    "from sklearn.feature_extraction.text import TfidfVectorizer, CountVectorizer\n",
    "from sklearn.linear_model import LogisticRegression\n",
    "import joblib \n",
    "\n",
    "import torch\n",
    "import torch.nn as nn\n",
    "from torchvision import models\n",
    "from torch.nn.functional import softmax"
   ]
  },
  {
   "cell_type": "code",
   "execution_count": 2,
   "id": "57d85563",
   "metadata": {
    "execution": {
     "iopub.execute_input": "2025-05-11T12:53:42.868825Z",
     "iopub.status.busy": "2025-05-11T12:53:42.868410Z",
     "iopub.status.idle": "2025-05-11T12:53:43.036008Z",
     "shell.execute_reply": "2025-05-11T12:53:43.035224Z"
    },
    "papermill": {
     "duration": 0.176951,
     "end_time": "2025-05-11T12:53:43.037656",
     "exception": false,
     "start_time": "2025-05-11T12:53:42.860705",
     "status": "completed"
    },
    "tags": []
   },
   "outputs": [],
   "source": [
    "train = pd.read_csv(\"/kaggle/input/meld-dataset/MELD-RAW/MELD.Raw/train/train_sent_emo.csv\")\n",
    "test = pd.read_csv(\"/kaggle/input/meld-dataset/MELD-RAW/MELD.Raw/test_sent_emo.csv\")\n",
    "cv = pd.read_csv(\"/kaggle/input/meld-dataset/MELD-RAW/MELD.Raw/dev_sent_emo.csv\")"
   ]
  },
  {
   "cell_type": "markdown",
   "id": "922c261e",
   "metadata": {
    "papermill": {
     "duration": 0.006567,
     "end_time": "2025-05-11T12:53:43.051493",
     "exception": false,
     "start_time": "2025-05-11T12:53:43.044926",
     "status": "completed"
    },
    "tags": []
   },
   "source": [
    "# EDA"
   ]
  },
  {
   "cell_type": "code",
   "execution_count": 3,
   "id": "8d0d3341",
   "metadata": {
    "execution": {
     "iopub.execute_input": "2025-05-11T12:53:43.066495Z",
     "iopub.status.busy": "2025-05-11T12:53:43.066113Z",
     "iopub.status.idle": "2025-05-11T12:53:43.072254Z",
     "shell.execute_reply": "2025-05-11T12:53:43.071321Z"
    },
    "papermill": {
     "duration": 0.015509,
     "end_time": "2025-05-11T12:53:43.073904",
     "exception": false,
     "start_time": "2025-05-11T12:53:43.058395",
     "status": "completed"
    },
    "tags": []
   },
   "outputs": [
    {
     "data": {
      "text/plain": [
       "((9989, 11), (1109, 11), (2610, 11))"
      ]
     },
     "execution_count": 3,
     "metadata": {},
     "output_type": "execute_result"
    }
   ],
   "source": [
    "train.shape, cv.shape , test.shape"
   ]
  },
  {
   "cell_type": "code",
   "execution_count": 4,
   "id": "1a8ba4d6",
   "metadata": {
    "execution": {
     "iopub.execute_input": "2025-05-11T12:53:43.088943Z",
     "iopub.status.busy": "2025-05-11T12:53:43.088678Z",
     "iopub.status.idle": "2025-05-11T12:53:43.113011Z",
     "shell.execute_reply": "2025-05-11T12:53:43.112123Z"
    },
    "papermill": {
     "duration": 0.03339,
     "end_time": "2025-05-11T12:53:43.114413",
     "exception": false,
     "start_time": "2025-05-11T12:53:43.081023",
     "status": "completed"
    },
    "tags": []
   },
   "outputs": [
    {
     "data": {
      "text/html": [
       "<div>\n",
       "<style scoped>\n",
       "    .dataframe tbody tr th:only-of-type {\n",
       "        vertical-align: middle;\n",
       "    }\n",
       "\n",
       "    .dataframe tbody tr th {\n",
       "        vertical-align: top;\n",
       "    }\n",
       "\n",
       "    .dataframe thead th {\n",
       "        text-align: right;\n",
       "    }\n",
       "</style>\n",
       "<table border=\"1\" class=\"dataframe\">\n",
       "  <thead>\n",
       "    <tr style=\"text-align: right;\">\n",
       "      <th></th>\n",
       "      <th>Sr No.</th>\n",
       "      <th>Utterance</th>\n",
       "      <th>Speaker</th>\n",
       "      <th>Emotion</th>\n",
       "      <th>Sentiment</th>\n",
       "      <th>Dialogue_ID</th>\n",
       "      <th>Utterance_ID</th>\n",
       "      <th>Season</th>\n",
       "      <th>Episode</th>\n",
       "      <th>StartTime</th>\n",
       "      <th>EndTime</th>\n",
       "    </tr>\n",
       "  </thead>\n",
       "  <tbody>\n",
       "    <tr>\n",
       "      <th>0</th>\n",
       "      <td>1</td>\n",
       "      <td>also I was the point person on my companys tr...</td>\n",
       "      <td>Chandler</td>\n",
       "      <td>neutral</td>\n",
       "      <td>neutral</td>\n",
       "      <td>0</td>\n",
       "      <td>0</td>\n",
       "      <td>8</td>\n",
       "      <td>21</td>\n",
       "      <td>00:16:16,059</td>\n",
       "      <td>00:16:21,731</td>\n",
       "    </tr>\n",
       "    <tr>\n",
       "      <th>1</th>\n",
       "      <td>2</td>\n",
       "      <td>You mustve had your hands full.</td>\n",
       "      <td>The Interviewer</td>\n",
       "      <td>neutral</td>\n",
       "      <td>neutral</td>\n",
       "      <td>0</td>\n",
       "      <td>1</td>\n",
       "      <td>8</td>\n",
       "      <td>21</td>\n",
       "      <td>00:16:21,940</td>\n",
       "      <td>00:16:23,442</td>\n",
       "    </tr>\n",
       "    <tr>\n",
       "      <th>2</th>\n",
       "      <td>3</td>\n",
       "      <td>That I did. That I did.</td>\n",
       "      <td>Chandler</td>\n",
       "      <td>neutral</td>\n",
       "      <td>neutral</td>\n",
       "      <td>0</td>\n",
       "      <td>2</td>\n",
       "      <td>8</td>\n",
       "      <td>21</td>\n",
       "      <td>00:16:23,442</td>\n",
       "      <td>00:16:26,389</td>\n",
       "    </tr>\n",
       "    <tr>\n",
       "      <th>3</th>\n",
       "      <td>4</td>\n",
       "      <td>So lets talk a little bit about your duties.</td>\n",
       "      <td>The Interviewer</td>\n",
       "      <td>neutral</td>\n",
       "      <td>neutral</td>\n",
       "      <td>0</td>\n",
       "      <td>3</td>\n",
       "      <td>8</td>\n",
       "      <td>21</td>\n",
       "      <td>00:16:26,820</td>\n",
       "      <td>00:16:29,572</td>\n",
       "    </tr>\n",
       "    <tr>\n",
       "      <th>4</th>\n",
       "      <td>5</td>\n",
       "      <td>My duties?  All right.</td>\n",
       "      <td>Chandler</td>\n",
       "      <td>surprise</td>\n",
       "      <td>positive</td>\n",
       "      <td>0</td>\n",
       "      <td>4</td>\n",
       "      <td>8</td>\n",
       "      <td>21</td>\n",
       "      <td>00:16:34,452</td>\n",
       "      <td>00:16:40,917</td>\n",
       "    </tr>\n",
       "  </tbody>\n",
       "</table>\n",
       "</div>"
      ],
      "text/plain": [
       "   Sr No.                                          Utterance          Speaker  \\\n",
       "0       1  also I was the point person on my companys tr...         Chandler   \n",
       "1       2                   You mustve had your hands full.  The Interviewer   \n",
       "2       3                            That I did. That I did.         Chandler   \n",
       "3       4      So lets talk a little bit about your duties.  The Interviewer   \n",
       "4       5                             My duties?  All right.         Chandler   \n",
       "\n",
       "    Emotion Sentiment  Dialogue_ID  Utterance_ID  Season  Episode  \\\n",
       "0   neutral   neutral            0             0       8       21   \n",
       "1   neutral   neutral            0             1       8       21   \n",
       "2   neutral   neutral            0             2       8       21   \n",
       "3   neutral   neutral            0             3       8       21   \n",
       "4  surprise  positive            0             4       8       21   \n",
       "\n",
       "      StartTime       EndTime  \n",
       "0  00:16:16,059  00:16:21,731  \n",
       "1  00:16:21,940  00:16:23,442  \n",
       "2  00:16:23,442  00:16:26,389  \n",
       "3  00:16:26,820  00:16:29,572  \n",
       "4  00:16:34,452  00:16:40,917  "
      ]
     },
     "execution_count": 4,
     "metadata": {},
     "output_type": "execute_result"
    }
   ],
   "source": [
    "train.head()"
   ]
  },
  {
   "cell_type": "code",
   "execution_count": 5,
   "id": "32d9efdf",
   "metadata": {
    "execution": {
     "iopub.execute_input": "2025-05-11T12:53:43.130010Z",
     "iopub.status.busy": "2025-05-11T12:53:43.129735Z",
     "iopub.status.idle": "2025-05-11T12:53:43.393191Z",
     "shell.execute_reply": "2025-05-11T12:53:43.392351Z"
    },
    "papermill": {
     "duration": 0.273035,
     "end_time": "2025-05-11T12:53:43.394819",
     "exception": false,
     "start_time": "2025-05-11T12:53:43.121784",
     "status": "completed"
    },
    "tags": []
   },
   "outputs": [
    {
     "name": "stdout",
     "output_type": "stream",
     "text": [
      "Emotion\n",
      "neutral     4710\n",
      "joy         1743\n",
      "surprise    1205\n",
      "anger       1109\n",
      "sadness      683\n",
      "disgust      271\n",
      "fear         268\n",
      "Name: count, dtype: int64\n"
     ]
    },
    {
     "data": {
      "image/png": "[encoded data removed]",
      "text/plain": [
       "<Figure size 640x480 with 1 Axes>"
      ]
     },
     "metadata": {},
     "output_type": "display_data"
    }
   ],
   "source": [
    "ax = sns.countplot(x=train['Emotion'], data=train)\n",
    "print(train['Emotion'].value_counts())"
   ]
  },
  {
   "cell_type": "code",
   "execution_count": 6,
   "id": "5acc9d97",
   "metadata": {
    "execution": {
     "iopub.execute_input": "2025-05-11T12:53:43.411610Z",
     "iopub.status.busy": "2025-05-11T12:53:43.411272Z",
     "iopub.status.idle": "2025-05-11T12:53:43.745218Z",
     "shell.execute_reply": "2025-05-11T12:53:43.744144Z"
    },
    "papermill": {
     "duration": 0.347026,
     "end_time": "2025-05-11T12:53:43.749702",
     "exception": false,
     "start_time": "2025-05-11T12:53:43.402676",
     "status": "completed"
    },
    "tags": []
   },
   "outputs": [
    {
     "name": "stdout",
     "output_type": "stream",
     "text": [
      "Emotion\n",
      "neutral     470\n",
      "joy         163\n",
      "anger       153\n",
      "surprise    150\n",
      "sadness     111\n",
      "fear         40\n",
      "disgust      22\n",
      "Name: count, dtype: int64\n"
     ]
    },
    {
     "data": {
      "image/png": "[encoded data removed]",
      "text/plain": [
       "<Figure size 640x480 with 1 Axes>"
      ]
     },
     "metadata": {},
     "output_type": "display_data"
    }
   ],
   "source": [
    "ax = sns.countplot(x=cv['Emotion'], data=cv)\n",
    "print(cv['Emotion'].value_counts())"
   ]
  },
  {
   "cell_type": "code",
   "execution_count": 7,
   "id": "43b85727",
   "metadata": {
    "execution": {
     "iopub.execute_input": "2025-05-11T12:53:43.767327Z",
     "iopub.status.busy": "2025-05-11T12:53:43.767035Z",
     "iopub.status.idle": "2025-05-11T12:53:43.951831Z",
     "shell.execute_reply": "2025-05-11T12:53:43.950643Z"
    },
    "papermill": {
     "duration": 0.195647,
     "end_time": "2025-05-11T12:53:43.954198",
     "exception": false,
     "start_time": "2025-05-11T12:53:43.758551",
     "status": "completed"
    },
    "tags": []
   },
   "outputs": [
    {
     "name": "stdout",
     "output_type": "stream",
     "text": [
      "Emotion\n",
      "neutral     1256\n",
      "joy          402\n",
      "anger        345\n",
      "surprise     281\n",
      "sadness      208\n",
      "disgust       68\n",
      "fear          50\n",
      "Name: count, dtype: int64\n"
     ]
    },
    {
     "data": {
      "image/png": "[encoded data removed]",
      "text/plain": [
       "<Figure size 640x480 with 1 Axes>"
      ]
     },
     "metadata": {},
     "output_type": "display_data"
    }
   ],
   "source": [
    "ax = sns.countplot(x=test['Emotion'], data=test)\n",
    "print(test['Emotion'].value_counts())"
   ]
  },
  {
   "cell_type": "code",
   "execution_count": 8,
   "id": "405e93bf",
   "metadata": {
    "execution": {
     "iopub.execute_input": "2025-05-11T12:53:43.985254Z",
     "iopub.status.busy": "2025-05-11T12:53:43.984868Z",
     "iopub.status.idle": "2025-05-11T12:53:44.006658Z",
     "shell.execute_reply": "2025-05-11T12:53:44.005431Z"
    },
    "papermill": {
     "duration": 0.038386,
     "end_time": "2025-05-11T12:53:44.008879",
     "exception": false,
     "start_time": "2025-05-11T12:53:43.970493",
     "status": "completed"
    },
    "tags": []
   },
   "outputs": [
    {
     "name": "stdout",
     "output_type": "stream",
     "text": [
      "<class 'pandas.core.frame.DataFrame'>\n",
      "RangeIndex: 9989 entries, 0 to 9988\n",
      "Data columns (total 11 columns):\n",
      " #   Column        Non-Null Count  Dtype \n",
      "---  ------        --------------  ----- \n",
      " 0   Sr No.        9989 non-null   int64 \n",
      " 1   Utterance     9989 non-null   object\n",
      " 2   Speaker       9989 non-null   object\n",
      " 3   Emotion       9989 non-null   object\n",
      " 4   Sentiment     9989 non-null   object\n",
      " 5   Dialogue_ID   9989 non-null   int64 \n",
      " 6   Utterance_ID  9989 non-null   int64 \n",
      " 7   Season        9989 non-null   int64 \n",
      " 8   Episode       9989 non-null   int64 \n",
      " 9   StartTime     9989 non-null   object\n",
      " 10  EndTime       9989 non-null   object\n",
      "dtypes: int64(5), object(6)\n",
      "memory usage: 858.6+ KB\n"
     ]
    }
   ],
   "source": [
    "train.info()"
   ]
  },
  {
   "cell_type": "code",
   "execution_count": 9,
   "id": "51f3ca56",
   "metadata": {
    "execution": {
     "iopub.execute_input": "2025-05-11T12:53:44.028925Z",
     "iopub.status.busy": "2025-05-11T12:53:44.028621Z",
     "iopub.status.idle": "2025-05-11T12:53:44.037862Z",
     "shell.execute_reply": "2025-05-11T12:53:44.036898Z"
    },
    "papermill": {
     "duration": 0.020896,
     "end_time": "2025-05-11T12:53:44.039578",
     "exception": false,
     "start_time": "2025-05-11T12:53:44.018682",
     "status": "completed"
    },
    "tags": []
   },
   "outputs": [
    {
     "name": "stdout",
     "output_type": "stream",
     "text": [
      "<class 'pandas.core.frame.DataFrame'>\n",
      "RangeIndex: 1109 entries, 0 to 1108\n",
      "Data columns (total 11 columns):\n",
      " #   Column        Non-Null Count  Dtype \n",
      "---  ------        --------------  ----- \n",
      " 0   Sr No.        1109 non-null   int64 \n",
      " 1   Utterance     1109 non-null   object\n",
      " 2   Speaker       1109 non-null   object\n",
      " 3   Emotion       1109 non-null   object\n",
      " 4   Sentiment     1109 non-null   object\n",
      " 5   Dialogue_ID   1109 non-null   int64 \n",
      " 6   Utterance_ID  1109 non-null   int64 \n",
      " 7   Season        1109 non-null   int64 \n",
      " 8   Episode       1109 non-null   int64 \n",
      " 9   StartTime     1109 non-null   object\n",
      " 10  EndTime       1109 non-null   object\n",
      "dtypes: int64(5), object(6)\n",
      "memory usage: 95.4+ KB\n"
     ]
    }
   ],
   "source": [
    "cv.info()"
   ]
  },
  {
   "cell_type": "code",
   "execution_count": 10,
   "id": "0b1dfe5d",
   "metadata": {
    "execution": {
     "iopub.execute_input": "2025-05-11T12:53:44.058644Z",
     "iopub.status.busy": "2025-05-11T12:53:44.058275Z",
     "iopub.status.idle": "2025-05-11T12:53:44.068531Z",
     "shell.execute_reply": "2025-05-11T12:53:44.067364Z"
    },
    "papermill": {
     "duration": 0.021291,
     "end_time": "2025-05-11T12:53:44.069887",
     "exception": false,
     "start_time": "2025-05-11T12:53:44.048596",
     "status": "completed"
    },
    "tags": []
   },
   "outputs": [
    {
     "name": "stdout",
     "output_type": "stream",
     "text": [
      "<class 'pandas.core.frame.DataFrame'>\n",
      "RangeIndex: 2610 entries, 0 to 2609\n",
      "Data columns (total 11 columns):\n",
      " #   Column        Non-Null Count  Dtype \n",
      "---  ------        --------------  ----- \n",
      " 0   Sr No.        2610 non-null   int64 \n",
      " 1   Utterance     2610 non-null   object\n",
      " 2   Speaker       2610 non-null   object\n",
      " 3   Emotion       2610 non-null   object\n",
      " 4   Sentiment     2610 non-null   object\n",
      " 5   Dialogue_ID   2610 non-null   int64 \n",
      " 6   Utterance_ID  2610 non-null   int64 \n",
      " 7   Season        2610 non-null   int64 \n",
      " 8   Episode       2610 non-null   int64 \n",
      " 9   StartTime     2610 non-null   object\n",
      " 10  EndTime       2610 non-null   object\n",
      "dtypes: int64(5), object(6)\n",
      "memory usage: 224.4+ KB\n"
     ]
    }
   ],
   "source": [
    "test.info()"
   ]
  },
  {
   "cell_type": "code",
   "execution_count": 11,
   "id": "ef98e101",
   "metadata": {
    "execution": {
     "iopub.execute_input": "2025-05-11T12:53:44.089165Z",
     "iopub.status.busy": "2025-05-11T12:53:44.088862Z",
     "iopub.status.idle": "2025-05-11T12:53:44.097480Z",
     "shell.execute_reply": "2025-05-11T12:53:44.096659Z"
    },
    "papermill": {
     "duration": 0.019971,
     "end_time": "2025-05-11T12:53:44.098950",
     "exception": false,
     "start_time": "2025-05-11T12:53:44.078979",
     "status": "completed"
    },
    "tags": []
   },
   "outputs": [],
   "source": [
    "X_train , y_train = train[['Utterance']] , train[['Emotion']]\n",
    "X_cv , y_cv = cv[['Utterance']] , cv[['Emotion']]\n",
    "X_test , y_test = test[['Utterance']] , test[['Emotion']]"
   ]
  },
  {
   "cell_type": "markdown",
   "id": "03bcb01d",
   "metadata": {
    "papermill": {
     "duration": 0.008642,
     "end_time": "2025-05-11T12:53:44.116786",
     "exception": false,
     "start_time": "2025-05-11T12:53:44.108144",
     "status": "completed"
    },
    "tags": []
   },
   "source": [
    "# Helper Functions"
   ]
  },
  {
   "cell_type": "markdown",
   "id": "04bd9fb1",
   "metadata": {
    "papermill": {
     "duration": 0.008718,
     "end_time": "2025-05-11T12:53:44.134408",
     "exception": false,
     "start_time": "2025-05-11T12:53:44.125690",
     "status": "completed"
    },
    "tags": []
   },
   "source": [
    "## Defining multiclass log loss"
   ]
  },
  {
   "cell_type": "code",
   "execution_count": 12,
   "id": "95f3032a",
   "metadata": {
    "execution": {
     "iopub.execute_input": "2025-05-11T12:53:44.153183Z",
     "iopub.status.busy": "2025-05-11T12:53:44.152864Z",
     "iopub.status.idle": "2025-05-11T12:53:44.158288Z",
     "shell.execute_reply": "2025-05-11T12:53:44.157436Z"
    },
    "papermill": {
     "duration": 0.016684,
     "end_time": "2025-05-11T12:53:44.159815",
     "exception": false,
     "start_time": "2025-05-11T12:53:44.143131",
     "status": "completed"
    },
    "tags": []
   },
   "outputs": [],
   "source": [
    "def multiclass_logloss(actual, predicted, eps=1e-15):\n",
    "    \"\"\"Multi class version of Logarithmic Loss metric.\n",
    "    :param actual: Array containing the actual target classes\n",
    "    :param predicted: Matrix with class predictions, one probability per class\n",
    "    \"\"\"\n",
    "    # Convert 'actual' to a binary array if it's not already:\n",
    "    if len(actual.shape) == 1:\n",
    "        actual2 = np.zeros((actual.shape[0], predicted.shape[1]))\n",
    "        for i, val in enumerate(actual):\n",
    "            actual2[i, val] = 1\n",
    "        actual = actual2\n",
    "\n",
    "    clip = np.clip(predicted, eps, 1 - eps)\n",
    "    rows = actual.shape[0]\n",
    "    vsota = np.sum(actual * np.log(clip))\n",
    "    return -1.0 / rows * vsota"
   ]
  },
  {
   "cell_type": "markdown",
   "id": "e9270a99",
   "metadata": {
    "papermill": {
     "duration": 0.008692,
     "end_time": "2025-05-11T12:53:44.177517",
     "exception": false,
     "start_time": "2025-05-11T12:53:44.168825",
     "status": "completed"
    },
    "tags": []
   },
   "source": [
    "## Define a scorer to be used in Grid Search"
   ]
  },
  {
   "cell_type": "code",
   "execution_count": 13,
   "id": "3c942feb",
   "metadata": {
    "execution": {
     "iopub.execute_input": "2025-05-11T12:53:44.196097Z",
     "iopub.status.busy": "2025-05-11T12:53:44.195784Z",
     "iopub.status.idle": "2025-05-11T12:53:44.199705Z",
     "shell.execute_reply": "2025-05-11T12:53:44.198857Z"
    },
    "papermill": {
     "duration": 0.01499,
     "end_time": "2025-05-11T12:53:44.201176",
     "exception": false,
     "start_time": "2025-05-11T12:53:44.186186",
     "status": "completed"
    },
    "tags": []
   },
   "outputs": [],
   "source": [
    "mll_scorer = metrics.make_scorer(multiclass_logloss, greater_is_better=False, needs_proba=True)"
   ]
  },
  {
   "cell_type": "markdown",
   "id": "2c2f064f",
   "metadata": {
    "papermill": {
     "duration": 0.00894,
     "end_time": "2025-05-11T12:53:44.218880",
     "exception": false,
     "start_time": "2025-05-11T12:53:44.209940",
     "status": "completed"
    },
    "tags": []
   },
   "source": [
    "## Using LabelEncoder to vectorise labels"
   ]
  },
  {
   "cell_type": "code",
   "execution_count": 14,
   "id": "27c1b1de",
   "metadata": {
    "execution": {
     "iopub.execute_input": "2025-05-11T12:53:44.237532Z",
     "iopub.status.busy": "2025-05-11T12:53:44.237171Z",
     "iopub.status.idle": "2025-05-11T12:53:44.244797Z",
     "shell.execute_reply": "2025-05-11T12:53:44.243892Z"
    },
    "papermill": {
     "duration": 0.018723,
     "end_time": "2025-05-11T12:53:44.246300",
     "exception": false,
     "start_time": "2025-05-11T12:53:44.227577",
     "status": "completed"
    },
    "tags": []
   },
   "outputs": [],
   "source": [
    "lbl_enc = preprocessing.LabelEncoder()\n",
    "y_train_enc = lbl_enc.fit_transform(y_train.Emotion.values)\n",
    "y_cv_enc = lbl_enc.transform(y_cv.Emotion.values)\n",
    "y_test_enc = lbl_enc.transform(y_test.Emotion.values)"
   ]
  },
  {
   "cell_type": "code",
   "execution_count": 15,
   "id": "6a4ec8cb",
   "metadata": {
    "execution": {
     "iopub.execute_input": "2025-05-11T12:53:44.265282Z",
     "iopub.status.busy": "2025-05-11T12:53:44.264956Z",
     "iopub.status.idle": "2025-05-11T12:53:44.270763Z",
     "shell.execute_reply": "2025-05-11T12:53:44.269875Z"
    },
    "papermill": {
     "duration": 0.01698,
     "end_time": "2025-05-11T12:53:44.272206",
     "exception": false,
     "start_time": "2025-05-11T12:53:44.255226",
     "status": "completed"
    },
    "tags": []
   },
   "outputs": [
    {
     "data": {
      "text/plain": [
       "array(['neutral', 'neutral', 'neutral', 'surprise', 'neutral', 'neutral',\n",
       "       'neutral', 'neutral', 'neutral', 'fear', 'neutral', 'surprise',\n",
       "       'neutral', 'surprise', 'sadness', 'surprise', 'fear', 'neutral',\n",
       "       'neutral', 'neutral', 'neutral', 'neutral', 'joy', 'sadness',\n",
       "       'surprise', 'neutral', 'disgust', 'sadness', 'neutral', 'neutral',\n",
       "       'joy', 'neutral', 'joy', 'surprise', 'surprise', 'surprise',\n",
       "       'neutral', 'neutral', 'neutral', 'surprise', 'sadness', 'neutral',\n",
       "       'surprise', 'joy', 'surprise', 'neutral', 'neutral', 'neutral',\n",
       "       'neutral', 'neutral', 'joy', 'joy', 'joy', 'sadness', 'neutral',\n",
       "       'neutral', 'neutral', 'neutral', 'neutral', 'neutral', 'surprise',\n",
       "       'joy', 'surprise', 'joy', 'neutral', 'neutral', 'anger', 'joy',\n",
       "       'neutral', 'surprise', 'anger', 'anger', 'anger', 'neutral',\n",
       "       'neutral', 'sadness', 'sadness', 'sadness', 'surprise', 'anger',\n",
       "       'anger', 'anger', 'anger', 'neutral', 'anger', 'neutral',\n",
       "       'neutral', 'neutral', 'neutral', 'joy', 'neutral', 'joy',\n",
       "       'neutral', 'neutral', 'neutral', 'joy', 'neutral', 'neutral',\n",
       "       'neutral', 'neutral', 'neutral', 'joy', 'neutral', 'neutral',\n",
       "       'disgust', 'anger', 'anger', 'anger', 'anger', 'anger', 'anger',\n",
       "       'neutral', 'neutral', 'anger', 'neutral', 'joy', 'neutral',\n",
       "       'neutral', 'joy', 'joy', 'joy', 'joy', 'neutral', 'joy', 'disgust',\n",
       "       'surprise', 'disgust', 'neutral', 'fear', 'neutral', 'surprise',\n",
       "       'fear', 'disgust', 'anger', 'joy', 'neutral', 'surprise',\n",
       "       'neutral', 'neutral', 'neutral', 'neutral', 'surprise', 'neutral',\n",
       "       'neutral', 'anger', 'neutral', 'neutral', 'sadness', 'surprise',\n",
       "       'sadness', 'anger', 'sadness', 'neutral', 'sadness', 'neutral',\n",
       "       'neutral', 'neutral', 'neutral', 'neutral', 'joy', 'anger',\n",
       "       'anger', 'anger', 'neutral', 'anger', 'joy', 'joy', 'joy', 'joy',\n",
       "       'disgust', 'surprise', 'neutral', 'neutral', 'anger', 'joy',\n",
       "       'neutral', 'neutral', 'fear', 'neutral', 'fear', 'joy', 'joy',\n",
       "       'joy', 'joy', 'neutral', 'neutral', 'neutral', 'joy', 'neutral',\n",
       "       'joy', 'fear', 'neutral', 'sadness', 'surprise', 'fear', 'neutral',\n",
       "       'neutral', 'neutral', 'joy'], dtype=object)"
      ]
     },
     "execution_count": 15,
     "metadata": {},
     "output_type": "execute_result"
    }
   ],
   "source": [
    "y_train.Emotion.values[1:200]"
   ]
  },
  {
   "cell_type": "code",
   "execution_count": 16,
   "id": "cf3dab5b",
   "metadata": {
    "execution": {
     "iopub.execute_input": "2025-05-11T12:53:44.291754Z",
     "iopub.status.busy": "2025-05-11T12:53:44.291445Z",
     "iopub.status.idle": "2025-05-11T12:53:44.297156Z",
     "shell.execute_reply": "2025-05-11T12:53:44.296391Z"
    },
    "papermill": {
     "duration": 0.017196,
     "end_time": "2025-05-11T12:53:44.298610",
     "exception": false,
     "start_time": "2025-05-11T12:53:44.281414",
     "status": "completed"
    },
    "tags": []
   },
   "outputs": [
    {
     "data": {
      "text/plain": [
       "array([4, 4, 4, 6, 4, 4, 4, 4, 4, 2, 4, 6, 4, 6, 5, 6, 2, 4, 4, 4, 4, 4,\n",
       "       3, 5, 6, 4, 1, 5, 4, 4, 3, 4, 3, 6, 6, 6, 4, 4, 4, 6, 5, 4, 6, 3,\n",
       "       6, 4, 4, 4, 4, 4, 3, 3, 3, 5, 4, 4, 4, 4, 4, 4, 6, 3, 6, 3, 4, 4,\n",
       "       0, 3, 4, 6, 0, 0, 0, 4, 4, 5, 5, 5, 6, 0, 0, 0, 0, 4, 0, 4, 4, 4,\n",
       "       4, 3, 4, 3, 4, 4, 4, 3, 4, 4, 4, 4, 4, 3, 4, 4, 1, 0, 0, 0, 0, 0,\n",
       "       0, 4, 4, 0, 4, 3, 4, 4, 3, 3, 3, 3, 4, 3, 1, 6, 1, 4, 2, 4, 6, 2,\n",
       "       1, 0, 3, 4, 6, 4, 4, 4, 4, 6, 4, 4, 0, 4, 4, 5, 6, 5, 0, 5, 4, 5,\n",
       "       4, 4, 4, 4, 4, 3, 0, 0, 0, 4, 0, 3, 3, 3, 3, 1, 6, 4, 4, 0, 3, 4,\n",
       "       4, 2, 4, 2, 3, 3, 3, 3, 4, 4, 4, 3, 4, 3, 2, 4, 5, 6, 2, 4, 4, 4,\n",
       "       3])"
      ]
     },
     "execution_count": 16,
     "metadata": {},
     "output_type": "execute_result"
    }
   ],
   "source": [
    "y_train_enc[1:200]"
   ]
  },
  {
   "cell_type": "markdown",
   "id": "55d97fb4",
   "metadata": {
    "papermill": {
     "duration": 0.008885,
     "end_time": "2025-05-11T12:53:44.316863",
     "exception": false,
     "start_time": "2025-05-11T12:53:44.307978",
     "status": "completed"
    },
    "tags": []
   },
   "source": [
    "## Dataset preprocessing"
   ]
  },
  {
   "cell_type": "code",
   "execution_count": 17,
   "id": "efc22ba1",
   "metadata": {
    "execution": {
     "iopub.execute_input": "2025-05-11T12:53:44.335986Z",
     "iopub.status.busy": "2025-05-11T12:53:44.335662Z",
     "iopub.status.idle": "2025-05-11T12:53:44.801712Z",
     "shell.execute_reply": "2025-05-11T12:53:44.800842Z"
    },
    "papermill": {
     "duration": 0.47782,
     "end_time": "2025-05-11T12:53:44.803557",
     "exception": false,
     "start_time": "2025-05-11T12:53:44.325737",
     "status": "completed"
    },
    "tags": []
   },
   "outputs": [],
   "source": [
    "import re\n",
    "from nltk.corpus import stopwords\n",
    "from nltk.stem.porter import PorterStemmer\n",
    "\n",
    "def preprocess_text(data, text_column='Utterance'):\n",
    "    \"\"\"\n",
    "    Cleans and preprocesses text data using stemming and stopword removal.\n",
    "\n",
    "    Parameters:\n",
    "    - data (pd.DataFrame): The dataframe containing the text data.\n",
    "    - text_column (str): Name of the column containing text to clean.\n",
    "\n",
    "    Returns:\n",
    "    - pd.DataFrame: The dataframe with a new column `clean_utterance` and original text column dropped.\n",
    "    \"\"\"\n",
    "    ps = PorterStemmer()\n",
    "    stop_words = set(stopwords.words('english'))\n",
    "    corpus = []\n",
    "\n",
    "    for i in range(len(data)):\n",
    "        review = re.sub('[^a-zA-Z]', ' ', data[text_column][i])\n",
    "        review = review.lower().split()\n",
    "        review = [ps.stem(word) for word in review if word not in stop_words]\n",
    "        corpus.append(' '.join(review))\n",
    "\n",
    "    data = data.copy()\n",
    "    data['clean_utterance'] = corpus\n",
    "    data.drop(text_column, axis=1, inplace=True)\n",
    "    return data\n"
   ]
  },
  {
   "cell_type": "code",
   "execution_count": 18,
   "id": "c34a97f9",
   "metadata": {
    "execution": {
     "iopub.execute_input": "2025-05-11T12:53:44.823505Z",
     "iopub.status.busy": "2025-05-11T12:53:44.823140Z",
     "iopub.status.idle": "2025-05-11T12:53:46.035188Z",
     "shell.execute_reply": "2025-05-11T12:53:46.034381Z"
    },
    "papermill": {
     "duration": 1.223818,
     "end_time": "2025-05-11T12:53:46.036959",
     "exception": false,
     "start_time": "2025-05-11T12:53:44.813141",
     "status": "completed"
    },
    "tags": []
   },
   "outputs": [],
   "source": [
    "X_train = preprocess_text(X_train)\n",
    "X_cv = preprocess_text(X_cv)\n",
    "X_test = preprocess_text(X_test)"
   ]
  },
  {
   "cell_type": "markdown",
   "id": "ae24fb4c",
   "metadata": {
    "papermill": {
     "duration": 0.008613,
     "end_time": "2025-05-11T12:53:46.055124",
     "exception": false,
     "start_time": "2025-05-11T12:53:46.046511",
     "status": "completed"
    },
    "tags": []
   },
   "source": [
    "# Models"
   ]
  },
  {
   "cell_type": "markdown",
   "id": "f7ef3e50",
   "metadata": {
    "papermill": {
     "duration": 0.008862,
     "end_time": "2025-05-11T12:53:46.072768",
     "exception": false,
     "start_time": "2025-05-11T12:53:46.063906",
     "status": "completed"
    },
    "tags": []
   },
   "source": [
    "## Model 1: TFIDF + LR"
   ]
  },
  {
   "cell_type": "code",
   "execution_count": 19,
   "id": "a721ae0b",
   "metadata": {
    "execution": {
     "iopub.execute_input": "2025-05-11T12:53:46.091929Z",
     "iopub.status.busy": "2025-05-11T12:53:46.091592Z",
     "iopub.status.idle": "2025-05-11T12:53:46.449326Z",
     "shell.execute_reply": "2025-05-11T12:53:46.448539Z"
    },
    "papermill": {
     "duration": 0.369316,
     "end_time": "2025-05-11T12:53:46.451022",
     "exception": false,
     "start_time": "2025-05-11T12:53:46.081706",
     "status": "completed"
    },
    "tags": []
   },
   "outputs": [],
   "source": [
    "tfv = TfidfVectorizer(min_df=3,  max_features=None, \n",
    "            strip_accents='unicode', analyzer='word',token_pattern=r'\\w{1,}',\n",
    "            ngram_range=(1, 3), use_idf=True,smooth_idf=True,sublinear_tf=True,\n",
    "            stop_words = 'english')\n",
    "\n",
    "# Fitting TF-IDF to both training and test sets (semi-supervised learning)\n",
    "tfv.fit(list(X_train['clean_utterance']) + list(X_cv['clean_utterance']) + list(X_test['clean_utterance']))\n",
    "X_train_tfv =  tfv.transform(X_train['clean_utterance']) \n",
    "X_valid_tfv = tfv.transform(X_cv['clean_utterance'])\n",
    "X_test_tfv = tfv.transform(X_test['clean_utterance'])"
   ]
  },
  {
   "cell_type": "code",
   "execution_count": 20,
   "id": "88eac629",
   "metadata": {
    "execution": {
     "iopub.execute_input": "2025-05-11T12:53:46.470540Z",
     "iopub.status.busy": "2025-05-11T12:53:46.470203Z",
     "iopub.status.idle": "2025-05-11T12:53:46.475807Z",
     "shell.execute_reply": "2025-05-11T12:53:46.474855Z"
    },
    "papermill": {
     "duration": 0.016754,
     "end_time": "2025-05-11T12:53:46.477114",
     "exception": false,
     "start_time": "2025-05-11T12:53:46.460360",
     "status": "completed"
    },
    "tags": []
   },
   "outputs": [
    {
     "data": {
      "text/plain": [
       "((9989, 3180), (1109, 3180), (2610, 3180))"
      ]
     },
     "execution_count": 20,
     "metadata": {},
     "output_type": "execute_result"
    }
   ],
   "source": [
    "X_train_tfv.shape,X_valid_tfv.shape,X_test_tfv.shape"
   ]
  },
  {
   "cell_type": "code",
   "execution_count": 21,
   "id": "4d1f9fb3",
   "metadata": {
    "execution": {
     "iopub.execute_input": "2025-05-11T12:53:46.496449Z",
     "iopub.status.busy": "2025-05-11T12:53:46.496035Z",
     "iopub.status.idle": "2025-05-11T12:53:53.228986Z",
     "shell.execute_reply": "2025-05-11T12:53:53.227671Z"
    },
    "papermill": {
     "duration": 6.74471,
     "end_time": "2025-05-11T12:53:53.230938",
     "exception": false,
     "start_time": "2025-05-11T12:53:46.486228",
     "status": "completed"
    },
    "tags": []
   },
   "outputs": [
    {
     "name": "stdout",
     "output_type": "stream",
     "text": [
      "Fitting 2 folds for each of 9 candidates, totalling 18 fits\n",
      "Best: -1.417577 using {'C': 1}\n",
      "-1.536665 1(0.000177) with: {'C': 1e-06}\n",
      "-1.536648 1(0.000177) with: {'C': 1e-05}\n",
      "-1.536480 1(0.000177) with: {'C': 0.0001}\n",
      "-1.534833 1(0.000178) with: {'C': 0.001}\n",
      "-1.520889 1(0.000220) with: {'C': 0.01}\n",
      "-1.463320 1(0.000341) with: {'C': 0.1}\n",
      "-1.417577 1(0.004768) with: {'C': 1}\n",
      "-1.622422 1(0.007542) with: {'C': 10}\n",
      "-2.349451 1(0.009973) with: {'C': 100}\n"
     ]
    }
   ],
   "source": [
    "from sklearn.linear_model import LogisticRegression\n",
    "from sklearn.model_selection import GridSearchCV\n",
    "from sklearn.metrics import roc_auc_score\n",
    "\n",
    "\n",
    "alpha = [10 ** x for x in range(-6, 3)]\n",
    "\n",
    "\n",
    "# initialize Our first RandomForestRegressor model...\n",
    "regr2 = LogisticRegression(max_iter=1000)\n",
    "\n",
    "# declare parameters for hyperparameter tuning\n",
    "parameters = {'C':alpha} \n",
    "\n",
    "# Perform cross validation \n",
    "clf = GridSearchCV(regr2,\n",
    "                    param_grid = parameters,\n",
    "                    scoring=mll_scorer,\n",
    "                    n_jobs = -1,\n",
    "                    verbose = 10, refit=True, cv=2)\n",
    "result = clf.fit(X_train_tfv, y_train_enc)\n",
    "\n",
    "# Summarize results\n",
    "print(\"Best: %f using %s\" % (result.best_score_, result.best_params_))\n",
    "means = result.cv_results_['mean_test_score']\n",
    "stds = result.cv_results_['std_test_score']\n",
    "params = result.cv_results_['params']\n",
    "for mean, stdev, param in zip(means, stds, params):\n",
    "    print(\"%f 1(%f) with: %r\" % (mean, stdev, param))"
   ]
  },
  {
   "cell_type": "code",
   "execution_count": 22,
   "id": "afb40c30",
   "metadata": {
    "execution": {
     "iopub.execute_input": "2025-05-11T12:53:53.251678Z",
     "iopub.status.busy": "2025-05-11T12:53:53.251273Z",
     "iopub.status.idle": "2025-05-11T12:53:54.095243Z",
     "shell.execute_reply": "2025-05-11T12:53:54.094216Z"
    },
    "papermill": {
     "duration": 0.855979,
     "end_time": "2025-05-11T12:53:54.096996",
     "exception": false,
     "start_time": "2025-05-11T12:53:53.241017",
     "status": "completed"
    },
    "tags": []
   },
   "outputs": [
    {
     "data": {
      "text/html": [
       "<style>#sk-container-id-1 {color: black;background-color: white;}#sk-container-id-1 pre{padding: 0;}#sk-container-id-1 div.sk-toggleable {background-color: white;}#sk-container-id-1 label.sk-toggleable__label {cursor: pointer;display: block;width: 100%;margin-bottom: 0;padding: 0.3em;box-sizing: border-box;text-align: center;}#sk-container-id-1 label.sk-toggleable__label-arrow:before {content: \"▸\";float: left;margin-right: 0.25em;color: #696969;}#sk-container-id-1 label.sk-toggleable__label-arrow:hover:before {color: black;}#sk-container-id-1 div.sk-estimator:hover label.sk-toggleable__label-arrow:before {color: black;}#sk-container-id-1 div.sk-toggleable__content {max-height: 0;max-width: 0;overflow: hidden;text-align: left;background-color: #f0f8ff;}#sk-container-id-1 div.sk-toggleable__content pre {margin: 0.2em;color: black;border-radius: 0.25em;background-color: #f0f8ff;}#sk-container-id-1 input.sk-toggleable__control:checked~div.sk-toggleable__content {max-height: 200px;max-width: 100%;overflow: auto;}#sk-container-id-1 input.sk-toggleable__control:checked~label.sk-toggleable__label-arrow:before {content: \"▾\";}#sk-container-id-1 div.sk-estimator input.sk-toggleable__control:checked~label.sk-toggleable__label {background-color: #d4ebff;}#sk-container-id-1 div.sk-label input.sk-toggleable__control:checked~label.sk-toggleable__label {background-color: #d4ebff;}#sk-container-id-1 input.sk-hidden--visually {border: 0;clip: rect(1px 1px 1px 1px);clip: rect(1px, 1px, 1px, 1px);height: 1px;margin: -1px;overflow: hidden;padding: 0;position: absolute;width: 1px;}#sk-container-id-1 div.sk-estimator {font-family: monospace;background-color: #f0f8ff;border: 1px dotted black;border-radius: 0.25em;box-sizing: border-box;margin-bottom: 0.5em;}#sk-container-id-1 div.sk-estimator:hover {background-color: #d4ebff;}#sk-container-id-1 div.sk-parallel-item::after {content: \"\";width: 100%;border-bottom: 1px solid gray;flex-grow: 1;}#sk-container-id-1 div.sk-label:hover label.sk-toggleable__label {background-color: #d4ebff;}#sk-container-id-1 div.sk-serial::before {content: \"\";position: absolute;border-left: 1px solid gray;box-sizing: border-box;top: 0;bottom: 0;left: 50%;z-index: 0;}#sk-container-id-1 div.sk-serial {display: flex;flex-direction: column;align-items: center;background-color: white;padding-right: 0.2em;padding-left: 0.2em;position: relative;}#sk-container-id-1 div.sk-item {position: relative;z-index: 1;}#sk-container-id-1 div.sk-parallel {display: flex;align-items: stretch;justify-content: center;background-color: white;position: relative;}#sk-container-id-1 div.sk-item::before, #sk-container-id-1 div.sk-parallel-item::before {content: \"\";position: absolute;border-left: 1px solid gray;box-sizing: border-box;top: 0;bottom: 0;left: 50%;z-index: -1;}#sk-container-id-1 div.sk-parallel-item {display: flex;flex-direction: column;z-index: 1;position: relative;background-color: white;}#sk-container-id-1 div.sk-parallel-item:first-child::after {align-self: flex-end;width: 50%;}#sk-container-id-1 div.sk-parallel-item:last-child::after {align-self: flex-start;width: 50%;}#sk-container-id-1 div.sk-parallel-item:only-child::after {width: 0;}#sk-container-id-1 div.sk-dashed-wrapped {border: 1px dashed gray;margin: 0 0.4em 0.5em 0.4em;box-sizing: border-box;padding-bottom: 0.4em;background-color: white;}#sk-container-id-1 div.sk-label label {font-family: monospace;font-weight: bold;display: inline-block;line-height: 1.2em;}#sk-container-id-1 div.sk-label-container {text-align: center;}#sk-container-id-1 div.sk-container {/* jupyter's `normalize.less` sets `[hidden] { display: none; }` but bootstrap.min.css set `[hidden] { display: none !important; }` so we also need the `!important` here to be able to override the default hidden behavior on the sphinx rendered scikit-learn.org. See: https://github.com/scikit-learn/scikit-learn/issues/21755 */display: inline-block !important;position: relative;}#sk-container-id-1 div.sk-text-repr-fallback {display: none;}</style><div id=\"sk-container-id-1\" class=\"sk-top-container\"><div class=\"sk-text-repr-fallback\"><pre>LogisticRegression(C=1, max_iter=1000)</pre><b>In a Jupyter environment, please rerun this cell to show the HTML representation or trust the notebook. <br />On GitHub, the HTML representation is unable to render, please try loading this page with nbviewer.org.</b></div><div class=\"sk-container\" hidden><div class=\"sk-item\"><div class=\"sk-estimator sk-toggleable\"><input class=\"sk-toggleable__control sk-hidden--visually\" id=\"sk-estimator-id-1\" type=\"checkbox\" checked><label for=\"sk-estimator-id-1\" class=\"sk-toggleable__label sk-toggleable__label-arrow\">LogisticRegression</label><div class=\"sk-toggleable__content\"><pre>LogisticRegression(C=1, max_iter=1000)</pre></div></div></div></div></div>"
      ],
      "text/plain": [
       "LogisticRegression(C=1, max_iter=1000)"
      ]
     },
     "execution_count": 22,
     "metadata": {},
     "output_type": "execute_result"
    }
   ],
   "source": [
    "lr = LogisticRegression(C = 1, max_iter=1000)\n",
    "lr.fit(X_train_tfv, y_train_enc)"
   ]
  },
  {
   "cell_type": "code",
   "execution_count": 23,
   "id": "fbf59a1e",
   "metadata": {
    "execution": {
     "iopub.execute_input": "2025-05-11T12:53:54.118746Z",
     "iopub.status.busy": "2025-05-11T12:53:54.118407Z",
     "iopub.status.idle": "2025-05-11T12:53:54.130428Z",
     "shell.execute_reply": "2025-05-11T12:53:54.129386Z"
    },
    "papermill": {
     "duration": 0.023995,
     "end_time": "2025-05-11T12:53:54.131959",
     "exception": false,
     "start_time": "2025-05-11T12:53:54.107964",
     "status": "completed"
    },
    "tags": []
   },
   "outputs": [
    {
     "name": "stdout",
     "output_type": "stream",
     "text": [
      "logloss: 1.130 \n"
     ]
    }
   ],
   "source": [
    "predictions = lr.predict_proba(X_train_tfv)\n",
    "print (\"logloss: %0.3f \" % multiclass_logloss(y_train_enc, predictions))"
   ]
  },
  {
   "cell_type": "code",
   "execution_count": 24,
   "id": "2faf5264",
   "metadata": {
    "execution": {
     "iopub.execute_input": "2025-05-11T12:53:54.159450Z",
     "iopub.status.busy": "2025-05-11T12:53:54.159056Z",
     "iopub.status.idle": "2025-05-11T12:53:54.165863Z",
     "shell.execute_reply": "2025-05-11T12:53:54.164765Z"
    },
    "papermill": {
     "duration": 0.021121,
     "end_time": "2025-05-11T12:53:54.167960",
     "exception": false,
     "start_time": "2025-05-11T12:53:54.146839",
     "status": "completed"
    },
    "tags": []
   },
   "outputs": [
    {
     "name": "stdout",
     "output_type": "stream",
     "text": [
      "logloss: 1.477 \n"
     ]
    }
   ],
   "source": [
    "predictions = lr.predict_proba(X_valid_tfv)\n",
    "print (\"logloss: %0.3f \" % multiclass_logloss(y_cv_enc, predictions))"
   ]
  },
  {
   "cell_type": "code",
   "execution_count": 25,
   "id": "71f2609c",
   "metadata": {
    "execution": {
     "iopub.execute_input": "2025-05-11T12:53:54.193868Z",
     "iopub.status.busy": "2025-05-11T12:53:54.193511Z",
     "iopub.status.idle": "2025-05-11T12:53:54.201331Z",
     "shell.execute_reply": "2025-05-11T12:53:54.200409Z"
    },
    "papermill": {
     "duration": 0.022007,
     "end_time": "2025-05-11T12:53:54.202938",
     "exception": false,
     "start_time": "2025-05-11T12:53:54.180931",
     "status": "completed"
    },
    "tags": []
   },
   "outputs": [
    {
     "name": "stdout",
     "output_type": "stream",
     "text": [
      "logloss: 1.372 \n"
     ]
    }
   ],
   "source": [
    "predictions = lr.predict_proba(X_test_tfv)\n",
    "print (\"logloss: %0.3f \" % multiclass_logloss(y_test_enc, predictions))"
   ]
  },
  {
   "cell_type": "markdown",
   "id": "2b35a6e4",
   "metadata": {
    "papermill": {
     "duration": 0.009439,
     "end_time": "2025-05-11T12:53:54.222342",
     "exception": false,
     "start_time": "2025-05-11T12:53:54.212903",
     "status": "completed"
    },
    "tags": []
   },
   "source": [
    "## Inference"
   ]
  },
  {
   "cell_type": "code",
   "execution_count": 26,
   "id": "17e4a6b1",
   "metadata": {
    "execution": {
     "iopub.execute_input": "2025-05-11T12:53:54.242921Z",
     "iopub.status.busy": "2025-05-11T12:53:54.242489Z",
     "iopub.status.idle": "2025-05-11T12:53:54.461841Z",
     "shell.execute_reply": "2025-05-11T12:53:54.460946Z"
    },
    "papermill": {
     "duration": 0.231557,
     "end_time": "2025-05-11T12:53:54.463478",
     "exception": false,
     "start_time": "2025-05-11T12:53:54.231921",
     "status": "completed"
    },
    "tags": []
   },
   "outputs": [
    {
     "data": {
      "text/plain": [
       "['tfidf.pkl']"
      ]
     },
     "execution_count": 26,
     "metadata": {},
     "output_type": "execute_result"
    }
   ],
   "source": [
    "joblib.dump(lr, 'lr2.pkl') \n",
    "joblib.dump(tfv, 'tfidf.pkl') "
   ]
  },
  {
   "cell_type": "code",
   "execution_count": 27,
   "id": "0e416b2f",
   "metadata": {
    "execution": {
     "iopub.execute_input": "2025-05-11T12:53:54.484503Z",
     "iopub.status.busy": "2025-05-11T12:53:54.484138Z",
     "iopub.status.idle": "2025-05-11T12:53:54.489068Z",
     "shell.execute_reply": "2025-05-11T12:53:54.488283Z"
    },
    "papermill": {
     "duration": 0.017008,
     "end_time": "2025-05-11T12:53:54.490677",
     "exception": false,
     "start_time": "2025-05-11T12:53:54.473669",
     "status": "completed"
    },
    "tags": []
   },
   "outputs": [],
   "source": [
    "import re\n",
    "\n",
    "### Dataset Preprocessing \n",
    "from nltk.stem.porter import PorterStemmer\n",
    "def preprocessor(sentence):\n",
    "  ps = PorterStemmer()\n",
    "\n",
    "  review = re.sub('[^a-zA-Z]', ' ', sentence)\n",
    "  review = review.lower()\n",
    "  review = review.split()\n",
    "\n",
    "  review = [ps.stem(word) for word in review if not word in stopwords.words('english')]\n",
    "  review = ' '.join(review)\n",
    "  return review"
   ]
  },
  {
   "cell_type": "code",
   "execution_count": 28,
   "id": "d930f93a",
   "metadata": {
    "execution": {
     "iopub.execute_input": "2025-05-11T12:53:54.511375Z",
     "iopub.status.busy": "2025-05-11T12:53:54.511059Z",
     "iopub.status.idle": "2025-05-11T12:53:54.515464Z",
     "shell.execute_reply": "2025-05-11T12:53:54.514690Z"
    },
    "papermill": {
     "duration": 0.01638,
     "end_time": "2025-05-11T12:53:54.516749",
     "exception": false,
     "start_time": "2025-05-11T12:53:54.500369",
     "status": "completed"
    },
    "tags": []
   },
   "outputs": [],
   "source": [
    "def mapper(ans):\n",
    "  for i in ans:\n",
    "    if i==0:\n",
    "      return 'Anger'\n",
    "    elif i==1:\n",
    "      return 'Disgust'\n",
    "    elif i==2:\n",
    "      return 'Fear'\n",
    "    elif i==3:\n",
    "      return 'Joy'\n",
    "    elif i==4:\n",
    "      return 'Neutral'\n",
    "    elif i==5:\n",
    "      return 'Sadness'\n",
    "    elif i==6:\n",
    "      return 'Surprise'"
   ]
  },
  {
   "cell_type": "code",
   "execution_count": 29,
   "id": "a9a77c91",
   "metadata": {
    "execution": {
     "iopub.execute_input": "2025-05-11T12:53:54.537787Z",
     "iopub.status.busy": "2025-05-11T12:53:54.537489Z",
     "iopub.status.idle": "2025-05-11T12:53:54.541927Z",
     "shell.execute_reply": "2025-05-11T12:53:54.541116Z"
    },
    "papermill": {
     "duration": 0.016794,
     "end_time": "2025-05-11T12:53:54.543556",
     "exception": false,
     "start_time": "2025-05-11T12:53:54.526762",
     "status": "completed"
    },
    "tags": []
   },
   "outputs": [],
   "source": [
    "def predictor(sentence):\n",
    "  lst = []\n",
    "  my_model = joblib.load('lr2.pkl') \n",
    "  tfv = joblib.load('tfidf.pkl')  \n",
    "\n",
    "  sent = preprocessor(sentence)\n",
    "\n",
    "  lst.append(sent)\n",
    "  sent_tfv = tfv.transform(lst)\n",
    "  ans = my_model.predict(sent_tfv) \n",
    "  mapped_ans = mapper(ans)\n",
    "  return mapped_ans"
   ]
  },
  {
   "cell_type": "markdown",
   "id": "d3686181",
   "metadata": {
    "papermill": {
     "duration": 0.009721,
     "end_time": "2025-05-11T12:53:54.565155",
     "exception": false,
     "start_time": "2025-05-11T12:53:54.555434",
     "status": "completed"
    },
    "tags": []
   },
   "source": [
    "## Sample Predictions"
   ]
  },
  {
   "cell_type": "code",
   "execution_count": 30,
   "id": "823f1214",
   "metadata": {
    "execution": {
     "iopub.execute_input": "2025-05-11T12:53:54.587288Z",
     "iopub.status.busy": "2025-05-11T12:53:54.586969Z",
     "iopub.status.idle": "2025-05-11T12:53:54.706729Z",
     "shell.execute_reply": "2025-05-11T12:53:54.705578Z"
    },
    "papermill": {
     "duration": 0.13302,
     "end_time": "2025-05-11T12:53:54.708440",
     "exception": false,
     "start_time": "2025-05-11T12:53:54.575420",
     "status": "completed"
    },
    "tags": []
   },
   "outputs": [
    {
     "name": "stdout",
     "output_type": "stream",
     "text": [
      "Anger\n"
     ]
    }
   ],
   "source": [
    "ans = predictor('I hate you from bottom of my heart')\n",
    "print(ans)"
   ]
  },
  {
   "cell_type": "code",
   "execution_count": 31,
   "id": "ea8e0ff6",
   "metadata": {
    "execution": {
     "iopub.execute_input": "2025-05-11T12:53:54.729258Z",
     "iopub.status.busy": "2025-05-11T12:53:54.728980Z",
     "iopub.status.idle": "2025-05-11T12:53:54.837467Z",
     "shell.execute_reply": "2025-05-11T12:53:54.836374Z"
    },
    "papermill": {
     "duration": 0.120682,
     "end_time": "2025-05-11T12:53:54.839109",
     "exception": false,
     "start_time": "2025-05-11T12:53:54.718427",
     "status": "completed"
    },
    "tags": []
   },
   "outputs": [
    {
     "name": "stdout",
     "output_type": "stream",
     "text": [
      "Joy\n"
     ]
    }
   ],
   "source": [
    "ans = predictor('Oh Wow what a beautiful place')\n",
    "print(ans)"
   ]
  },
  {
   "cell_type": "code",
   "execution_count": 32,
   "id": "6e80496a",
   "metadata": {
    "execution": {
     "iopub.execute_input": "2025-05-11T12:53:54.860837Z",
     "iopub.status.busy": "2025-05-11T12:53:54.860531Z",
     "iopub.status.idle": "2025-05-11T12:53:54.971375Z",
     "shell.execute_reply": "2025-05-11T12:53:54.970235Z"
    },
    "papermill": {
     "duration": 0.122825,
     "end_time": "2025-05-11T12:53:54.972887",
     "exception": false,
     "start_time": "2025-05-11T12:53:54.850062",
     "status": "completed"
    },
    "tags": []
   },
   "outputs": [
    {
     "name": "stdout",
     "output_type": "stream",
     "text": [
      "Sadness\n"
     ]
    }
   ],
   "source": [
    "ans = predictor('I am really sorry, I am feeling really very guilty')\n",
    "print(ans)"
   ]
  }
 ],
 "metadata": {
  "kaggle": {
   "accelerator": "none",
   "dataSources": [
    {
     "datasetId": 1182338,
     "sourceId": 1978289,
     "sourceType": "datasetVersion"
    },
    {
     "datasetId": 7386729,
     "sourceId": 11766327,
     "sourceType": "datasetVersion"
    }
   ],
   "dockerImageVersionId": 30918,
   "isGpuEnabled": false,
   "isInternetEnabled": true,
   "language": "python",
   "sourceType": "notebook"
  },
  "kernelspec": {
   "display_name": "Python 3",
   "language": "python",
   "name": "python3"
  },
  "language_info": {
   "codemirror_mode": {
    "name": "ipython",
    "version": 3
   },
   "file_extension": ".py",
   "mimetype": "text/x-python",
   "name": "python",
   "nbconvert_exporter": "python",
   "pygments_lexer": "ipython3",
   "version": "3.10.12"
  },
  "papermill": {
   "default_parameters": {},
   "duration": 28.933879,
   "end_time": "2025-05-11T12:53:57.511736",
   "environment_variables": {},
   "exception": null,
   "input_path": "__notebook__.ipynb",
   "output_path": "__notebook__.ipynb",
   "parameters": {},
   "start_time": "2025-05-11T12:53:28.577857",
   "version": "2.6.0"
  }
 },
 "nbformat": 4,
 "nbformat_minor": 5
}
